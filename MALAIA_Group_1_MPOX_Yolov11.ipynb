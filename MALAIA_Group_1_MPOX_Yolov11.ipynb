{
  "nbformat": 4,
  "nbformat_minor": 0,
  "metadata": {
    "colab": {
      "provenance": [],
      "toc_visible": true,
      "include_colab_link": true
    },
    "kernelspec": {
      "name": "python3",
      "display_name": "Python 3"
    },
    "language_info": {
      "name": "python"
    }
  },
  "cells": [
    {
      "cell_type": "markdown",
      "metadata": {
        "id": "view-in-github",
        "colab_type": "text"
      },
      "source": [
        "<a href=\"https://colab.research.google.com/github/mmjavier/MALAIA-MPOX_YOLOv11/blob/main/MALAIA_Group_1_MPOX_Yolov11.ipynb\" target=\"_parent\"><img src=\"https://colab.research.google.com/assets/colab-badge.svg\" alt=\"Open In Colab\"/></a>"
      ]
    },
    {
      "cell_type": "code",
      "execution_count": null,
      "metadata": {
        "colab": {
          "base_uri": "https://localhost:8080/"
        },
        "id": "LxeYQn5PAwY7",
        "outputId": "34d4c1da-401a-4aad-a9da-5a6f3fe7bbfd"
      },
      "outputs": [
        {
          "output_type": "stream",
          "name": "stdout",
          "text": [
            "Hello World\n"
          ]
        }
      ],
      "source": [
        "print('Hello World')"
      ]
    },
    {
      "cell_type": "markdown",
      "source": [
        "## **Introduction**"
      ],
      "metadata": {
        "id": "dSTFQxs7CT16"
      }
    },
    {
      "cell_type": "markdown",
      "source": [
        "# **Initial Project Setup**\n",
        "\n",
        "We will be connecting this notebook to Jules for automatic management of version control via GitHub"
      ],
      "metadata": {
        "id": "aITJZ0aoCzw2"
      }
    },
    {
      "cell_type": "code",
      "source": [
        "!pip install julesai"
      ],
      "metadata": {
        "colab": {
          "base_uri": "https://localhost:8080/"
        },
        "id": "p6w9ANstDTDn",
        "outputId": "b435e884-cb2f-4064-a237-9e9a4e6354ea"
      },
      "execution_count": null,
      "outputs": [
        {
          "output_type": "stream",
          "name": "stdout",
          "text": [
            "\u001b[31mERROR: Could not find a version that satisfies the requirement julesai (from versions: none)\u001b[0m\u001b[31m\n",
            "\u001b[0m\u001b[31mERROR: No matching distribution found for julesai\u001b[0m\u001b[31m\n",
            "\u001b[0m"
          ]
        }
      ]
    },
    {
      "cell_type": "code",
      "source": [
        "! pip install -q kaggle"
      ],
      "metadata": {
        "id": "imtfoUGOIG1R"
      },
      "execution_count": null,
      "outputs": []
    },
    {
      "cell_type": "code",
      "source": [
        "from google.colab import files\n",
        "files.upload()"
      ],
      "metadata": {
        "colab": {
          "base_uri": "https://localhost:8080/",
          "height": 92
        },
        "id": "EX6QvV-0JuPR",
        "outputId": "c536c7a9-28a8-47c5-fa4c-aa25f05fdf3a"
      },
      "execution_count": null,
      "outputs": [
        {
          "output_type": "display_data",
          "data": {
            "text/plain": [
              "<IPython.core.display.HTML object>"
            ],
            "text/html": [
              "\n",
              "     <input type=\"file\" id=\"files-0476c104-6fe9-4953-bdfe-ce0d50e2d64d\" name=\"files[]\" multiple disabled\n",
              "        style=\"border:none\" />\n",
              "     <output id=\"result-0476c104-6fe9-4953-bdfe-ce0d50e2d64d\">\n",
              "      Upload widget is only available when the cell has been executed in the\n",
              "      current browser session. Please rerun this cell to enable.\n",
              "      </output>\n",
              "      <script>// Copyright 2017 Google LLC\n",
              "//\n",
              "// Licensed under the Apache License, Version 2.0 (the \"License\");\n",
              "// you may not use this file except in compliance with the License.\n",
              "// You may obtain a copy of the License at\n",
              "//\n",
              "//      http://www.apache.org/licenses/LICENSE-2.0\n",
              "//\n",
              "// Unless required by applicable law or agreed to in writing, software\n",
              "// distributed under the License is distributed on an \"AS IS\" BASIS,\n",
              "// WITHOUT WARRANTIES OR CONDITIONS OF ANY KIND, either express or implied.\n",
              "// See the License for the specific language governing permissions and\n",
              "// limitations under the License.\n",
              "\n",
              "/**\n",
              " * @fileoverview Helpers for google.colab Python module.\n",
              " */\n",
              "(function(scope) {\n",
              "function span(text, styleAttributes = {}) {\n",
              "  const element = document.createElement('span');\n",
              "  element.textContent = text;\n",
              "  for (const key of Object.keys(styleAttributes)) {\n",
              "    element.style[key] = styleAttributes[key];\n",
              "  }\n",
              "  return element;\n",
              "}\n",
              "\n",
              "// Max number of bytes which will be uploaded at a time.\n",
              "const MAX_PAYLOAD_SIZE = 100 * 1024;\n",
              "\n",
              "function _uploadFiles(inputId, outputId) {\n",
              "  const steps = uploadFilesStep(inputId, outputId);\n",
              "  const outputElement = document.getElementById(outputId);\n",
              "  // Cache steps on the outputElement to make it available for the next call\n",
              "  // to uploadFilesContinue from Python.\n",
              "  outputElement.steps = steps;\n",
              "\n",
              "  return _uploadFilesContinue(outputId);\n",
              "}\n",
              "\n",
              "// This is roughly an async generator (not supported in the browser yet),\n",
              "// where there are multiple asynchronous steps and the Python side is going\n",
              "// to poll for completion of each step.\n",
              "// This uses a Promise to block the python side on completion of each step,\n",
              "// then passes the result of the previous step as the input to the next step.\n",
              "function _uploadFilesContinue(outputId) {\n",
              "  const outputElement = document.getElementById(outputId);\n",
              "  const steps = outputElement.steps;\n",
              "\n",
              "  const next = steps.next(outputElement.lastPromiseValue);\n",
              "  return Promise.resolve(next.value.promise).then((value) => {\n",
              "    // Cache the last promise value to make it available to the next\n",
              "    // step of the generator.\n",
              "    outputElement.lastPromiseValue = value;\n",
              "    return next.value.response;\n",
              "  });\n",
              "}\n",
              "\n",
              "/**\n",
              " * Generator function which is called between each async step of the upload\n",
              " * process.\n",
              " * @param {string} inputId Element ID of the input file picker element.\n",
              " * @param {string} outputId Element ID of the output display.\n",
              " * @return {!Iterable<!Object>} Iterable of next steps.\n",
              " */\n",
              "function* uploadFilesStep(inputId, outputId) {\n",
              "  const inputElement = document.getElementById(inputId);\n",
              "  inputElement.disabled = false;\n",
              "\n",
              "  const outputElement = document.getElementById(outputId);\n",
              "  outputElement.innerHTML = '';\n",
              "\n",
              "  const pickedPromise = new Promise((resolve) => {\n",
              "    inputElement.addEventListener('change', (e) => {\n",
              "      resolve(e.target.files);\n",
              "    });\n",
              "  });\n",
              "\n",
              "  const cancel = document.createElement('button');\n",
              "  inputElement.parentElement.appendChild(cancel);\n",
              "  cancel.textContent = 'Cancel upload';\n",
              "  const cancelPromise = new Promise((resolve) => {\n",
              "    cancel.onclick = () => {\n",
              "      resolve(null);\n",
              "    };\n",
              "  });\n",
              "\n",
              "  // Wait for the user to pick the files.\n",
              "  const files = yield {\n",
              "    promise: Promise.race([pickedPromise, cancelPromise]),\n",
              "    response: {\n",
              "      action: 'starting',\n",
              "    }\n",
              "  };\n",
              "\n",
              "  cancel.remove();\n",
              "\n",
              "  // Disable the input element since further picks are not allowed.\n",
              "  inputElement.disabled = true;\n",
              "\n",
              "  if (!files) {\n",
              "    return {\n",
              "      response: {\n",
              "        action: 'complete',\n",
              "      }\n",
              "    };\n",
              "  }\n",
              "\n",
              "  for (const file of files) {\n",
              "    const li = document.createElement('li');\n",
              "    li.append(span(file.name, {fontWeight: 'bold'}));\n",
              "    li.append(span(\n",
              "        `(${file.type || 'n/a'}) - ${file.size} bytes, ` +\n",
              "        `last modified: ${\n",
              "            file.lastModifiedDate ? file.lastModifiedDate.toLocaleDateString() :\n",
              "                                    'n/a'} - `));\n",
              "    const percent = span('0% done');\n",
              "    li.appendChild(percent);\n",
              "\n",
              "    outputElement.appendChild(li);\n",
              "\n",
              "    const fileDataPromise = new Promise((resolve) => {\n",
              "      const reader = new FileReader();\n",
              "      reader.onload = (e) => {\n",
              "        resolve(e.target.result);\n",
              "      };\n",
              "      reader.readAsArrayBuffer(file);\n",
              "    });\n",
              "    // Wait for the data to be ready.\n",
              "    let fileData = yield {\n",
              "      promise: fileDataPromise,\n",
              "      response: {\n",
              "        action: 'continue',\n",
              "      }\n",
              "    };\n",
              "\n",
              "    // Use a chunked sending to avoid message size limits. See b/62115660.\n",
              "    let position = 0;\n",
              "    do {\n",
              "      const length = Math.min(fileData.byteLength - position, MAX_PAYLOAD_SIZE);\n",
              "      const chunk = new Uint8Array(fileData, position, length);\n",
              "      position += length;\n",
              "\n",
              "      const base64 = btoa(String.fromCharCode.apply(null, chunk));\n",
              "      yield {\n",
              "        response: {\n",
              "          action: 'append',\n",
              "          file: file.name,\n",
              "          data: base64,\n",
              "        },\n",
              "      };\n",
              "\n",
              "      let percentDone = fileData.byteLength === 0 ?\n",
              "          100 :\n",
              "          Math.round((position / fileData.byteLength) * 100);\n",
              "      percent.textContent = `${percentDone}% done`;\n",
              "\n",
              "    } while (position < fileData.byteLength);\n",
              "  }\n",
              "\n",
              "  // All done.\n",
              "  yield {\n",
              "    response: {\n",
              "      action: 'complete',\n",
              "    }\n",
              "  };\n",
              "}\n",
              "\n",
              "scope.google = scope.google || {};\n",
              "scope.google.colab = scope.google.colab || {};\n",
              "scope.google.colab._files = {\n",
              "  _uploadFiles,\n",
              "  _uploadFilesContinue,\n",
              "};\n",
              "})(self);\n",
              "</script> "
            ]
          },
          "metadata": {}
        },
        {
          "output_type": "stream",
          "name": "stdout",
          "text": [
            "Saving kaggle.json to kaggle.json\n"
          ]
        },
        {
          "output_type": "execute_result",
          "data": {
            "text/plain": [
              "{'kaggle.json': b'{\"username\":\"cazhiareeselleva\",\"key\":\"dbf8f30001ae69c97869fd864aac738a\"}'}"
            ]
          },
          "metadata": {},
          "execution_count": 4
        }
      ]
    },
    {
      "cell_type": "code",
      "source": [
        " ! mkdir ~/.kaggle\n",
        "\n",
        "! cp kaggle.json ~/.kaggle/"
      ],
      "metadata": {
        "id": "bzab411-KD0h"
      },
      "execution_count": null,
      "outputs": []
    },
    {
      "cell_type": "code",
      "source": [
        "! chmod 600 ~/.kaggle/kaggle.json"
      ],
      "metadata": {
        "id": "t7k6Hx3eKGYT"
      },
      "execution_count": null,
      "outputs": []
    },
    {
      "cell_type": "code",
      "source": [
        "! kaggle datasets list"
      ],
      "metadata": {
        "colab": {
          "base_uri": "https://localhost:8080/"
        },
        "id": "uWq_IYVPKKM1",
        "outputId": "9d86e737-022d-4c41-d229-5a978a39f06e"
      },
      "execution_count": null,
      "outputs": [
        {
          "output_type": "stream",
          "name": "stdout",
          "text": [
            "ref                                                            title                                                size  lastUpdated                 downloadCount  voteCount  usabilityRating  \n",
            "-------------------------------------------------------------  ---------------------------------------------  ----------  --------------------------  -------------  ---------  ---------------  \n",
            "urvishahir/electric-vehicle-specifications-dataset-2025        Electric Vehicle Specs Dataset (2025)               16631  2025-06-20 07:14:56.777000           4209        104  1.0              \n",
            "divyaraj2006/social-media-engagement                           social media engagement                              2142  2025-07-02 15:34:21.323000           1574         34  1.0              \n",
            "adilshamim8/salaries-for-data-science-jobs                     Data Science, AI & ML Job Salaries in 2025        2315744  2025-07-01 07:25:40.620000           3018         67  1.0              \n",
            "chaudharisanika/smartphones-dataset                            Smartphones Dataset                                 22452  2025-06-15 15:50:56.727000           4379         78  1.0              \n",
            "pratyushpuri/remote-work-health-impact-survey-2025             Remote Work Health Impact Survey June 2025          45354  2025-07-01 08:42:38.937000           1218         33  0.88235295       \n",
            "khwaishsaxena/lung-cancer-dataset                              Lung Cancer Dataset                              19146677  2025-06-25 03:39:42.770000           1781         45  1.0              \n",
            "abdulwadood11220/usa-house-sales-data                          USA House Sales Data                               137669  2025-06-22 10:52:07.067000           1055         23  1.0              \n",
            "rakeshkapilavai/extrovert-vs-introvert-behavior-data           Extrovert vs. Introvert Behavior Data               31277  2025-06-13 14:26:48.303000          25481        531  1.0              \n",
            "sahilislam007/health-and-lifestyle-dataset                     Health And Lifestyle Dataset                       123230  2025-06-25 09:52:01.580000           2201         48  1.0              \n",
            "gauravduttakiit/the-electricity-cost-prediction-challenge      The Electricity Cost Prediction Challenge          458365  2025-07-03 13:22:57.557000            540         23  0.7058824        \n",
            "muhammadazam121/student-performance-data                       student-performance-data                            67739  2025-06-14 04:11:38.953000           1088         23  1.0              \n",
            "aslawant/superhero-movies-dataset                              Superhero Movies Dataset                            15959  2025-06-30 13:36:42.227000            395         25  1.0              \n",
            "harishthakur995/mcdonald-vs-burger-king                        Mcdonald vs Burger king                            828884  2025-06-18 11:56:30.247000           1082         30  1.0              \n",
            "abdulwadood11220/youtube-data-for-analytics-600-rows           YouTube data for Analytics (600 rows)              242039  2025-06-21 01:01:10.737000           1133         30  1.0              \n",
            "rakeshkapilavai/ai-tool-usage-by-indian-college-students-2025  AI Tool Usage by Indian College Students 2025       90645  2025-06-09 12:37:13.017000           1143         32  1.0              \n",
            "adilshamim8/social-media-addiction-vs-relationships            Students' Social Media Addiction                     7851  2025-05-10 14:38:02.713000          28205        414  1.0              \n",
            "adilshamim8/tesla-stock-price-history                          TESLA STOCK PRICE HISTORY                           91409  2025-06-17 06:47:35.293000            975         29  1.0              \n",
            "dansbecker/melbourne-housing-snapshot                          Melbourne Housing Snapshot                         461423  2018-06-05 12:52:24.087000         184615       1647  0.7058824        \n",
            "kfoster150/grammy-award-nominees-and-winners-1958-2024         Grammy Award Nominees and Winners, 1958-2024       815767  2025-06-20 23:26:04.270000            735         23  1.0              \n",
            "pratyushpuri/stock-market-june-2025-dataset                    Stock Market June 2025 Dataset                      81270  2025-06-21 21:12:31.977000            940         34  0.88235295       \n"
          ]
        }
      ]
    },
    {
      "cell_type": "code",
      "source": [
        "! kaggle datasets download priyadhaila/mpox-skin-lesion-dataset"
      ],
      "metadata": {
        "colab": {
          "base_uri": "https://localhost:8080/"
        },
        "id": "JR63c2AEK3hE",
        "outputId": "42e89d57-2b55-4b53-95e6-8d25556be838"
      },
      "execution_count": null,
      "outputs": [
        {
          "output_type": "stream",
          "name": "stdout",
          "text": [
            "Dataset URL: https://www.kaggle.com/datasets/priyadhaila/mpox-skin-lesion-dataset\n",
            "License(s): other\n",
            "Downloading mpox-skin-lesion-dataset.zip to /content\n",
            " 98% 554M/567M [00:10<00:00, 34.9MB/s]\n",
            "100% 567M/567M [00:10<00:00, 55.6MB/s]\n"
          ]
        }
      ]
    }
  ]
}